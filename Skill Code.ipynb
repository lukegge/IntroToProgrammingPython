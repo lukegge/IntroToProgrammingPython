{
 "cells": [
  {
   "attachments": {},
   "cell_type": "markdown",
   "metadata": {},
   "source": [
    "<h2>Task 1</h2>"
   ]
  },
  {
   "cell_type": "code",
   "execution_count": null,
   "metadata": {},
   "outputs": [
    {
     "name": "stdout",
     "output_type": "stream",
     "text": [
      "The sum of 5 + 4 + 6 is 15\n"
     ]
    }
   ],
   "source": [
    "# Get the input integers\n",
    "num1 = int(input(\"Enter the first integer: \"))\n",
    "num2 = int(input(\"Enter the second integer: \"))\n",
    "num3 = int(input(\"Enter the third integer: \"))\n",
    "\n",
    "# Calculate the sum of the integers\n",
    "total = num1 + num2 + num3\n",
    "\n",
    "# Print the result\n",
    "print(\"The sum of\", num1, \"+\", num2, \"+\", num3, \"is\", total)"
   ]
  },
  {
   "attachments": {},
   "cell_type": "markdown",
   "metadata": {},
   "source": [
    "<h2>Task 2</h2>"
   ]
  },
  {
   "cell_type": "code",
   "execution_count": null,
   "metadata": {},
   "outputs": [
    {
     "name": "stdout",
     "output_type": "stream",
     "text": [
      "Hello, Lukas!\n"
     ]
    }
   ],
   "source": [
    "# Read the name of the user from input\n",
    "user_name = input(\"Please enter your name: \")\n",
    "\n",
    "# Print the greeting\n",
    "print(\"Hello, \" + user_name + \"!\")"
   ]
  },
  {
   "attachments": {},
   "cell_type": "markdown",
   "metadata": {},
   "source": [
    "<h2>Task 3</h2>"
   ]
  },
  {
   "cell_type": "code",
   "execution_count": null,
   "metadata": {},
   "outputs": [],
   "source": [
    "# Get the input number\n",
    "num = int(input(\"Enter an integer number: \"))\n",
    "\n",
    "# Calculate the previous and next numbers\n",
    "prev_num = num - 1\n",
    "next_num = num + 1\n",
    "\n",
    "# Print the results\n",
    "print(\"The next number for the number\", num, \"is\", next_num)\n",
    "print(\"The previous number for the number\", num, \"is\", prev_num)"
   ]
  },
  {
   "attachments": {},
   "cell_type": "markdown",
   "metadata": {},
   "source": [
    "<h2>Task 4</h2>"
   ]
  },
  {
   "cell_type": "code",
   "execution_count": null,
   "metadata": {},
   "outputs": [
    {
     "name": "stdout",
     "output_type": "stream",
     "text": [
      "1\n"
     ]
    }
   ],
   "source": [
    "# Read the K-th day of the year from input\n",
    "k = int(input(\"Enter the K-th day of the year (between 1 and 365): \"))\n",
    "\n",
    "# Check if the input is valid\n",
    "if k < 1 or k > 365:\n",
    "    print(\"Error: K-th day of the year must be between 1 and 365.\")\n",
    "else:\n",
    "    # Calculate the number of the day of the week\n",
    "    # January 1st is a Thursday (k + 3)\n",
    "    day_of_week = (k + 3) % 7\n",
    "\n",
    "    # Print the number of the day of the week\n",
    "    print(day_of_week)"
   ]
  },
  {
   "attachments": {},
   "cell_type": "markdown",
   "metadata": {},
   "source": [
    "<h2>Task 5</h2>"
   ]
  },
  {
   "cell_type": "code",
   "execution_count": null,
   "metadata": {},
   "outputs": [
    {
     "name": "stdout",
     "output_type": "stream",
     "text": [
      "1\n"
     ]
    }
   ],
   "source": [
    "# Read a positive real number from input\n",
    "num = float(input(\"Enter a positive real number: \"))\n",
    "\n",
    "# Shift the decimal point to the right by 1 position\n",
    "# Get the last digit of the integer part\n",
    "first_digit = int((num * 10) % 10)\n",
    "\n",
    "# Print the first digit\n",
    "print(first_digit)"
   ]
  },
  {
   "attachments": {},
   "cell_type": "markdown",
   "metadata": {},
   "source": [
    "<h2>Task 6</h2>"
   ]
  },
  {
   "cell_type": "code",
   "execution_count": 10,
   "metadata": {},
   "outputs": [
    {
     "name": "stdout",
     "output_type": "stream",
     "text": [
      "Your number ( 23.0 ) is smaller than 100\n"
     ]
    }
   ],
   "source": [
    "# Try to read a float number from input\n",
    "try:\n",
    "    x = float(input(\"Enter a float number: \"))\n",
    "    # Check if the number is an integer\n",
    "    if isinstance(x, int):\n",
    "        raise ValueError(\"You have to enter a float number, not an integer\")\n",
    "# If the input is not a float number, display an error message\n",
    "except ValueError as e:\n",
    "    print(\"Error - \" + str(e))\n",
    "\n",
    "else:\n",
    "    # Check if the number is less than 100 and display a message\n",
    "    if x < 100:\n",
    "        print(\"Your number (\", x,\") is smaller than 100\")\n",
    "    else:\n",
    "        print(\"Your number (\", x,\") is higher than 100\")"
   ]
  },
  {
   "attachments": {},
   "cell_type": "markdown",
   "metadata": {},
   "source": [
    "<h2>Task 7</h2>"
   ]
  },
  {
   "cell_type": "code",
   "execution_count": 15,
   "metadata": {},
   "outputs": [
    {
     "name": "stdout",
     "output_type": "stream",
     "text": [
      "The temperature 55.0 Fahrenheit in Celsius is: 12.78\n"
     ]
    }
   ],
   "source": [
    "# Read a Fahrenheit temperature from input\n",
    "try:\n",
    "    temp_fahrenheit = float(input(\"Enter the temperature in Fahrenheit: \"))\n",
    "    # Check if the temperature is below absolute zero\n",
    "    if temp_fahrenheit < -459.67:\n",
    "        raise ValueError(\"Temperature is below absolute zero in Fahrenheit\")\n",
    "# If the input is not a float number or below absolute zero, display an error message\n",
    "except ValueError as e:\n",
    "    print(\"Error -\", e)\n",
    "else:\n",
    "    # Convert Fahrenheit to Celsius\n",
    "    temp_celsius = (temp_fahrenheit - 32) * 5 / 9\n",
    "    # Display the result rounded to 2 decimal places\n",
    "    print(\"The temperature\", temp_fahrenheit, \"Fahrenheit in Celsius is:\", round(temp_celsius, 2))"
   ]
  },
  {
   "attachments": {},
   "cell_type": "markdown",
   "metadata": {},
   "source": [
    "<h2>Task 8</h2>"
   ]
  },
  {
   "cell_type": "code",
   "execution_count": 16,
   "metadata": {},
   "outputs": [
    {
     "name": "stdout",
     "output_type": "stream",
     "text": [
      "hello\n",
      "10.0\n",
      "20\n"
     ]
    }
   ],
   "source": [
    "# Create the three variables\n",
    "mystring = \"hello\"\n",
    "myfloat = 10.0\n",
    "myint = 20\n",
    "\n",
    "# Check and print the variables\n",
    "if mystring == \"hello\":\n",
    "    print(mystring)\n",
    "\n",
    "if isinstance(myfloat, float) and myfloat == 10.0:\n",
    "    print(myfloat)\n",
    "\n",
    "if isinstance(myint, int) and myint == 20:\n",
    "    print(myint)"
   ]
  },
  {
   "attachments": {},
   "cell_type": "markdown",
   "metadata": {},
   "source": [
    "<h2>Task 9</h2>"
   ]
  },
  {
   "cell_type": "code",
   "execution_count": 19,
   "metadata": {},
   "outputs": [
    {
     "name": "stdout",
     "output_type": "stream",
     "text": [
      "String: hello\n",
      "Float: 10.000000\n",
      "Integer: 20\n"
     ]
    }
   ],
   "source": [
    "mystring = \"hello\"\n",
    "myfloat = 10.0\n",
    "myint = 20\n",
    "\n",
    "# Debugged testing code\n",
    "if mystring == \"hello\":\n",
    "    print(\"String: %s\" % mystring)\n",
    "if isinstance(myfloat, float) and myfloat == 10.0:\n",
    "    print(\"Float: %f\" % myfloat)\n",
    "if isinstance(myint, int) and myint == 20:\n",
    "    print(\"Integer: %d\" % myint)\n",
    "\n",
    "# Errors in the code:\n",
    "# = instead of ==\n",
    "# %d instead of %f\n",
    "# %s instead of %d\n",
    "# missing % before myfloat\n",
    "# missing d before myint"
   ]
  },
  {
   "attachments": {},
   "cell_type": "markdown",
   "metadata": {},
   "source": [
    "<h2>Task 10</h2>"
   ]
  },
  {
   "cell_type": "code",
   "execution_count": 20,
   "metadata": {},
   "outputs": [
    {
     "name": "stdout",
     "output_type": "stream",
     "text": [
      "Hello Eggenberger Lukas\n"
     ]
    }
   ],
   "source": [
    "# Get user input for first and last name\n",
    "first_name = input(\"Input your First Name: \")\n",
    "last_name = input(\"Input your Last Name: \")\n",
    "\n",
    "# Concatenate and print the names in reverse order with a space in between\n",
    "print(\"Hello\", last_name, first_name)"
   ]
  },
  {
   "attachments": {},
   "cell_type": "markdown",
   "metadata": {},
   "source": [
    "<h2>Task 11</h2>"
   ]
  },
  {
   "cell_type": "code",
   "execution_count": 26,
   "metadata": {},
   "outputs": [
    {
     "name": "stdout",
     "output_type": "stream",
     "text": [
      "4\n"
     ]
    }
   ],
   "source": [
    "# Read two integers from input\n",
    "a = int(input())\n",
    "b = int(input())\n",
    "\n",
    "# Check if the two inputs are equal\n",
    "if a == b:\n",
    "    print(\"Both numbers are equal!\")\n",
    "# Determine the least of the two integers and print it\n",
    "elif a < b:\n",
    "    print(a)\n",
    "else:\n",
    "    print(b)"
   ]
  },
  {
   "attachments": {},
   "cell_type": "markdown",
   "metadata": {},
   "source": [
    "<h2>Task 12</h2>"
   ]
  },
  {
   "cell_type": "code",
   "execution_count": 29,
   "metadata": {},
   "outputs": [
    {
     "name": "stdout",
     "output_type": "stream",
     "text": [
      "YES\n"
     ]
    }
   ],
   "source": [
    "# Read two integers from input\n",
    "a = int(input())\n",
    "b = int(input())\n",
    "\n",
    "# Determine if exactly one of them is positive and print the result\n",
    "if (a > 0 and b < 0) or (a < 0 and b > 0):\n",
    "    print(\"YES\")\n",
    "elif a == 0 or b == 0:\n",
    "    print(\"Inputs must be non-zero.\")\n",
    "else:\n",
    "    print(\"NO\")"
   ]
  },
  {
   "attachments": {},
   "cell_type": "markdown",
   "metadata": {},
   "source": [
    "<h2>Task 13</h2>"
   ]
  },
  {
   "cell_type": "code",
   "execution_count": null,
   "metadata": {},
   "outputs": [
    {
     "name": "stdout",
     "output_type": "stream",
     "text": [
      "4\n"
     ]
    }
   ],
   "source": [
    "# Read three integers from input\n",
    "a = int(input())\n",
    "b = int(input())\n",
    "c = int(input())\n",
    "\n",
    "# Check if all three are equal or not\n",
    "if a == b == c:\n",
    "    print(3)\n",
    "# Check if exactly two of them are equal\n",
    "elif a == b or b == c or a == c:\n",
    "    print(2)\n",
    "else:\n",
    "    print(0)"
   ]
  }
 ],
 "metadata": {
  "kernelspec": {
   "display_name": "base",
   "language": "python",
   "name": "python3"
  },
  "language_info": {
   "codemirror_mode": {
    "name": "ipython",
    "version": 3
   },
   "file_extension": ".py",
   "mimetype": "text/x-python",
   "name": "python",
   "nbconvert_exporter": "python",
   "pygments_lexer": "ipython3",
   "version": "3.9.7"
  },
  "orig_nbformat": 4
 },
 "nbformat": 4,
 "nbformat_minor": 2
}

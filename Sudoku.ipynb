{
 "cells": [
  {
   "attachments": {},
   "cell_type": "markdown",
   "metadata": {},
   "source": [
    "<h1>Sudoku Solver</h1>\n",
    "<h4>Step 1: Create Sudoku Board from User Input</h4>"
   ]
  },
  {
   "cell_type": "code",
   "execution_count": 1,
   "metadata": {},
   "outputs": [],
   "source": [
    "def createBoard():\n",
    "    # Initialize board with 9 rows and 9 columns\n",
    "    board = [[0 for col in range(9)] for row in range(9)] \n",
    "    while True:\n",
    "        for row in range(9):\n",
    "            for col in range(9):\n",
    "                while True:\n",
    "                    # Get each value from the user and check if it is valid (between 0 and 9 inclusive and an integer)\n",
    "                    value_str = input(f\"Enter value for row {row+1}, column {col+1}: \")\n",
    "                    if value_str.isdigit():\n",
    "                        value = int(value_str)\n",
    "                        if value >= 0 and value <= 9:\n",
    "                            board[row][col] = value\n",
    "                            break\n",
    "                        else:\n",
    "                            print(\"Error: Value must be between 0 and 9.\")\n",
    "                    else:\n",
    "                        print(\"Error: Please enter an integer value.\")\n",
    "\n",
    "        # Check if the Sudoku board is even possible (no duplicate values in rows, columns, or cell blocks)\n",
    "        possible = True\n",
    "        known_values = 0\n",
    "        for row in range(9):\n",
    "            for col in range(9):\n",
    "                value = board[row][col]\n",
    "                if value != 0:\n",
    "                    known_values += 1\n",
    "                    # Check row\n",
    "                    if board[row].count(value) > 1:\n",
    "                        possible = False\n",
    "                    # Check column\n",
    "                    column = [board[k][col] for k in range(9)]\n",
    "                    if column.count(value) > 1:\n",
    "                        possible = False\n",
    "                    # Check cell block\n",
    "                    block_row = int(row / 3)\n",
    "                    block_col = int(col / 3)\n",
    "                    cell_block = [board[block_row*3 + k][block_col*3 + l] for k in range(3) for l in range(3)]\n",
    "                    if cell_block.count(value) > 1:\n",
    "                        possible = False\n",
    "\n",
    "        # Check if the Sudoku board has at least 17 known values (if not it is guaranteed to be impossible to solve uniquely)\n",
    "        if known_values < 17:\n",
    "            possible = False\n",
    "\n",
    "        if possible:\n",
    "            return board\n",
    "        else:\n",
    "            print(\"Error: This Sudoku board is impossible!\")"
   ]
  },
  {
   "cell_type": "code",
   "execution_count": 13,
   "metadata": {},
   "outputs": [],
   "source": [
    "#NOTE: This function is not used in the program, but it is useful for testing\n",
    "board= [[5, 4, 9, 6, 3, 1, 0, 0, 0],\n",
    "        [0, 3, 0, 0, 7, 5, 0, 4, 9],\n",
    "        [0, 0, 0, 9, 4, 8, 0, 0, 0],\n",
    "        [1, 5, 7, 0, 0, 0, 0, 0, 0],\n",
    "        [0, 9, 6, 0, 0, 0, 2, 0, 8],\n",
    "        [2, 0, 0, 1, 6, 9, 0, 5, 0],\n",
    "        [4, 1, 0, 3, 0, 7, 0, 6, 0],\n",
    "        [0, 2, 0, 5, 1, 0, 3, 7, 0],\n",
    "        [7, 0, 3, 4, 0, 0, 1, 8, 0]]"
   ]
  },
  {
   "attachments": {},
   "cell_type": "markdown",
   "metadata": {},
   "source": [
    "<h4>Step 2: Define two crutial functions</h4>"
   ]
  },
  {
   "cell_type": "code",
   "execution_count": 14,
   "metadata": {},
   "outputs": [],
   "source": [
    "# Find the next empty cell and return dimensions\n",
    "def nextEmpty(board):\n",
    "    for row in range(9):\n",
    "        for col in range(9):\n",
    "            if board[row][col] == 0:\n",
    "                return row,col\n",
    "    return None\n",
    "\n",
    "# Check if the value is possible in the cell (no duplicate values in rows, columns, or cell blocks)\n",
    "def isPossible(board, row, col, num):\n",
    "    # Check row\n",
    "    for i in range(9):\n",
    "        if board[row][i] == num:\n",
    "            return False\n",
    "\n",
    "    # Check column\n",
    "    for j in range(9):\n",
    "        if board[j][col] == num:\n",
    "            return False\n",
    "\n",
    "    # Check cell block\n",
    "    block_row = (row // 3) * 3\n",
    "    block_col = (col // 3) * 3\n",
    "    for i in range(3):\n",
    "        for j in range(3):\n",
    "            if board[block_row + i][block_col + j] == num:\n",
    "                return False\n",
    "    return True"
   ]
  },
  {
   "attachments": {},
   "cell_type": "markdown",
   "metadata": {},
   "source": [
    "<h4>Step 3: Define solving function with backtracking algorithm</h4>"
   ]
  },
  {
   "cell_type": "code",
   "execution_count": 29,
   "metadata": {},
   "outputs": [],
   "source": [
    "# Solve the Sudoku board\n",
    "def solve(board, attempts=0):\n",
    "    # Create a copy of the board to avoid modifying the original board\n",
    "    new_board = [row[:] for row in board]\n",
    "    # Find the next empty cell\n",
    "    next = nextEmpty(board)\n",
    "    if next == None:\n",
    "        return new_board, attempts\n",
    "    else:\n",
    "        row, col = next\n",
    "\n",
    "    # Try each possible value\n",
    "    for num in range(1, 10):\n",
    "        if isPossible(new_board, row, col, num):\n",
    "            new_board[row][col] = num\n",
    "            result, attempts = solve(new_board, attempts + 1)\n",
    "            if result != None:\n",
    "                return result, attempts\n",
    "            new_board[row][col] = 0\n",
    "    return None, attempts"
   ]
  },
  {
   "cell_type": "code",
   "execution_count": 33,
   "metadata": {},
   "outputs": [
    {
     "name": "stdout",
     "output_type": "stream",
     "text": [
      "Solution found after 68 attempts:\n"
     ]
    },
    {
     "data": {
      "text/plain": [
       "[[5, 4, 9, 6, 3, 1, 8, 2, 7],\n",
       " [8, 3, 1, 2, 7, 5, 6, 4, 9],\n",
       " [6, 7, 2, 9, 4, 8, 5, 3, 1],\n",
       " [1, 5, 7, 8, 2, 3, 4, 9, 6],\n",
       " [3, 9, 6, 7, 5, 4, 2, 1, 8],\n",
       " [2, 8, 4, 1, 6, 9, 7, 5, 3],\n",
       " [4, 1, 5, 3, 8, 7, 9, 6, 2],\n",
       " [9, 2, 8, 5, 1, 6, 3, 7, 4],\n",
       " [7, 6, 3, 4, 9, 2, 1, 8, 5]]"
      ]
     },
     "execution_count": 33,
     "metadata": {},
     "output_type": "execute_result"
    }
   ],
   "source": [
    "solution, attempts = solve(board, 0)\n",
    "print(f\"Solution found after {attempts} attempts:\")\n",
    "solution"
   ]
  },
  {
   "attachments": {},
   "cell_type": "markdown",
   "metadata": {},
   "source": [
    "<h2>Everything Combined: SudokuSolver</h2>"
   ]
  },
  {
   "cell_type": "code",
   "execution_count": 1,
   "metadata": {},
   "outputs": [],
   "source": [
    "def SudokuSolver():    \n",
    "    def createBoard():\n",
    "        # Initialize board with 9 rows and 9 columns\n",
    "        board = [[0 for col in range(9)] for row in range(9)] \n",
    "        while True:\n",
    "            for row in range(9):\n",
    "                for col in range(9):\n",
    "                    while True:\n",
    "                        # Get each value from the user and check if it is valid (between 0 and 9 inclusive and an integer)\n",
    "                        value_str = input(f\"Enter value for row {row+1}, column {col+1}: \")\n",
    "                        if value_str.isdigit():\n",
    "                            value = int(value_str)\n",
    "                            if value >= 0 and value <= 9:\n",
    "                                board[row][col] = value\n",
    "                                break\n",
    "                            else:\n",
    "                                print(\"Error: Value must be between 0 and 9.\")\n",
    "                        else:\n",
    "                            print(\"Error: Please enter an integer value.\")\n",
    "\n",
    "            # Check if the Sudoku board is even possible (no duplicate values in rows, columns, or cell blocks)\n",
    "            possible = True\n",
    "            known_values = 0\n",
    "            for row in range(9):\n",
    "                for col in range(9):\n",
    "                    value = board[row][col]\n",
    "                    if value != 0:\n",
    "                        known_values += 1\n",
    "                        # Check row\n",
    "                        if board[row].count(value) > 1:\n",
    "                            possible = False\n",
    "                        # Check column\n",
    "                        column = [board[k][col] for k in range(9)]\n",
    "                        if column.count(value) > 1:\n",
    "                            possible = False\n",
    "                        # Check cell block\n",
    "                        block_row = int(row / 3)\n",
    "                        block_col = int(col / 3)\n",
    "                        cell_block = [board[block_row*3 + k][block_col*3 + l] for k in range(3) for l in range(3)]\n",
    "                        if cell_block.count(value) > 1:\n",
    "                            possible = False\n",
    "\n",
    "            # Check if the Sudoku board has at least 17 known values (if not it is guaranteed to be impossible to solve uniquely)\n",
    "            if known_values < 17:\n",
    "                possible = False\n",
    "\n",
    "            if possible:\n",
    "                return board\n",
    "            else:\n",
    "                print(\"Error: This Sudoku board is impossible!\")\n",
    "\n",
    "\n",
    "    # Find the next empty cell and return dimensions\n",
    "    def nextEmpty(board):\n",
    "        for row in range(9):\n",
    "            for col in range(9):\n",
    "                if board[row][col] == 0:\n",
    "                    return row,col\n",
    "        return None\n",
    "\n",
    "    # Check if the value is possible in the cell (no duplicate values in rows, columns, or cell blocks)\n",
    "    def isPossible(board, row, col, num):\n",
    "        # Check row\n",
    "        for i in range(9):\n",
    "            if board[row][i] == num:\n",
    "                return False\n",
    "\n",
    "        # Check column\n",
    "        for j in range(9):\n",
    "            if board[j][col] == num:\n",
    "                return False\n",
    "\n",
    "        # Check cell block\n",
    "        block_row = (row // 3) * 3\n",
    "        block_col = (col // 3) * 3\n",
    "        for i in range(3):\n",
    "            for j in range(3):\n",
    "                if board[block_row + i][block_col + j] == num:\n",
    "                    return False\n",
    "        return True\n",
    "    \n",
    "\n",
    "    # Solve the Sudoku board\n",
    "    def solve(board, attempts=0):\n",
    "        # Create a copy of the board to avoid modifying the original board\n",
    "        new_board = [row[:] for row in board]\n",
    "        # Find the next empty cell\n",
    "        next = nextEmpty(board)\n",
    "        if next == None:\n",
    "            return new_board, attempts\n",
    "        else:\n",
    "            row, col = next\n",
    "\n",
    "        # Try each possible value\n",
    "        for num in range(1, 10):\n",
    "            if isPossible(new_board, row, col, num):\n",
    "                new_board[row][col] = num\n",
    "                result, attempts = solve(new_board, attempts + 1)\n",
    "                if result != None:\n",
    "                    return result, attempts\n",
    "                new_board[row][col] = 0\n",
    "        return None, attempts\n",
    "    \n",
    "    board = createBoard()\n",
    "    solution, attempts = solve(board, 0)\n",
    "    print(f\"Solution found after {attempts} attempts:\")\n",
    "    return solution"
   ]
  },
  {
   "cell_type": "code",
   "execution_count": 2,
   "metadata": {},
   "outputs": [
    {
     "name": "stdout",
     "output_type": "stream",
     "text": [
      "Error: Please enter an integer value.\n",
      "Solution found after 184 attempts:\n"
     ]
    },
    {
     "data": {
      "text/plain": [
       "[[6, 8, 5, 4, 3, 7, 2, 1, 9],\n",
       " [1, 3, 4, 6, 9, 2, 7, 8, 5],\n",
       " [7, 2, 9, 1, 8, 5, 3, 4, 6],\n",
       " [8, 7, 6, 9, 5, 1, 4, 3, 2],\n",
       " [9, 4, 1, 7, 2, 3, 5, 6, 8],\n",
       " [2, 5, 3, 8, 6, 4, 9, 7, 1],\n",
       " [4, 6, 8, 2, 7, 9, 1, 5, 3],\n",
       " [3, 1, 2, 5, 4, 8, 6, 9, 7],\n",
       " [5, 9, 7, 3, 1, 6, 8, 2, 4]]"
      ]
     },
     "execution_count": 2,
     "metadata": {},
     "output_type": "execute_result"
    }
   ],
   "source": [
    "SudokuSolver()"
   ]
  }
 ],
 "metadata": {
  "kernelspec": {
   "display_name": "base",
   "language": "python",
   "name": "python3"
  },
  "language_info": {
   "codemirror_mode": {
    "name": "ipython",
    "version": 3
   },
   "file_extension": ".py",
   "mimetype": "text/x-python",
   "name": "python",
   "nbconvert_exporter": "python",
   "pygments_lexer": "ipython3",
   "version": "3.9.7"
  },
  "orig_nbformat": 4
 },
 "nbformat": 4,
 "nbformat_minor": 2
}

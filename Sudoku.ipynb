{
 "cells": [
  {
   "attachments": {},
   "cell_type": "markdown",
   "metadata": {},
   "source": [
    "<h1>Sudoku Solver</h1>\n",
    "<h4>Step 1: Create Sudoku Board from User Input</h4>"
   ]
  },
  {
   "cell_type": "code",
   "execution_count": 1,
   "metadata": {},
   "outputs": [],
   "source": [
    "def createBoard():\n",
    "    # Initialize board with 9 rows and 9 columns\n",
    "    board = [[0 for j in range(9)] for i in range(9)] \n",
    "    while True:\n",
    "        for i in range(9):\n",
    "            for j in range(9):\n",
    "                while True:\n",
    "                    # Get each value from the user and check if it is valid (between 0 and 9 inclusive and an integer)\n",
    "                    value_str = input(f\"Enter value for row {i+1}, column {j+1}: \")\n",
    "                    if value_str.isdigit():\n",
    "                        value = int(value_str)\n",
    "                        if value >= 0 and value <= 9:\n",
    "                            board[i][j] = value\n",
    "                            break\n",
    "                        else:\n",
    "                            print(\"Error: Value must be between 0 and 9.\")\n",
    "                    else:\n",
    "                        print(\"Error: Please enter an integer value.\")\n",
    "\n",
    "        # Check if the Sudoku board is even possible (no duplicate values in rows, columns, or cell blocks)\n",
    "        possible = True\n",
    "        known_values = 0\n",
    "        for i in range(9):\n",
    "            for j in range(9):\n",
    "                value = board[i][j]\n",
    "                if value != 0:\n",
    "                    known_values += 1\n",
    "                    # Check row\n",
    "                    if board[i].count(value) > 1:\n",
    "                        possible = False\n",
    "                    # Check column\n",
    "                    column = [board[k][j] for k in range(9)]\n",
    "                    if column.count(value) > 1:\n",
    "                        possible = False\n",
    "                    # Check cell block\n",
    "                    block_i = int(i / 3)\n",
    "                    block_j = int(j / 3)\n",
    "                    cell_block = [board[block_i*3 + k][block_j*3 + l] for k in range(3) for l in range(3)]\n",
    "                    if cell_block.count(value) > 1:\n",
    "                        possible = False\n",
    "\n",
    "        # Check if the Sudoku board has at least 17 known values (if not it is guaranteed to be impossible to solve uniquely)\n",
    "        if known_values < 17:\n",
    "            possible = False\n",
    "\n",
    "        if possible:\n",
    "            return board\n",
    "        else:\n",
    "            print(\"Error: This Sudoku board is impossible!\")\n",
    "            break"
   ]
  },
  {
   "cell_type": "code",
   "execution_count": 2,
   "metadata": {},
   "outputs": [
    {
     "name": "stdout",
     "output_type": "stream",
     "text": [
      "Error: Please enter an integer value.\n",
      "Error: This Sudoku board is impossible!\n"
     ]
    }
   ],
   "source": [
    "board1 = createBoard()"
   ]
  },
  {
   "cell_type": "code",
   "execution_count": 4,
   "metadata": {},
   "outputs": [
    {
     "name": "stdout",
     "output_type": "stream",
     "text": [
      "None\n"
     ]
    }
   ],
   "source": [
    "print(board1)"
   ]
  },
  {
   "cell_type": "code",
   "execution_count": null,
   "metadata": {},
   "outputs": [],
   "source": []
  }
 ],
 "metadata": {
  "kernelspec": {
   "display_name": "base",
   "language": "python",
   "name": "python3"
  },
  "language_info": {
   "codemirror_mode": {
    "name": "ipython",
    "version": 3
   },
   "file_extension": ".py",
   "mimetype": "text/x-python",
   "name": "python",
   "nbconvert_exporter": "python",
   "pygments_lexer": "ipython3",
   "version": "3.9.7"
  },
  "orig_nbformat": 4
 },
 "nbformat": 4,
 "nbformat_minor": 2
}

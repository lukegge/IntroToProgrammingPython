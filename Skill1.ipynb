{
 "cells": [
  {
   "attachments": {},
   "cell_type": "markdown",
   "metadata": {},
   "source": [
    "<h2>Task 1</h2>"
   ]
  },
  {
   "cell_type": "code",
   "execution_count": 1,
   "metadata": {},
   "outputs": [
    {
     "name": "stdout",
     "output_type": "stream",
     "text": [
      "The sum of 5 + 4 + 6 is 15\n"
     ]
    }
   ],
   "source": [
    "# Get the input integers\n",
    "num1 = int(input(\"Enter the first integer: \"))\n",
    "num2 = int(input(\"Enter the second integer: \"))\n",
    "num3 = int(input(\"Enter the third integer: \"))\n",
    "\n",
    "# Calculate the sum of the integers\n",
    "total = num1 + num2 + num3\n",
    "\n",
    "# Print the result\n",
    "print(\"The sum of\", num1, \"+\", num2, \"+\", num3, \"is\", total)"
   ]
  },
  {
   "attachments": {},
   "cell_type": "markdown",
   "metadata": {},
   "source": [
    "<h2>Task 2</h2>"
   ]
  },
  {
   "cell_type": "code",
   "execution_count": 2,
   "metadata": {},
   "outputs": [
    {
     "name": "stdout",
     "output_type": "stream",
     "text": [
      "Hello, Lukas!\n"
     ]
    }
   ],
   "source": [
    "# Read the name of the user from input\n",
    "user_name = input(\"Please enter your name: \")\n",
    "\n",
    "# Print the greeting\n",
    "print(\"Hello, \" + user_name + \"!\")"
   ]
  },
  {
   "attachments": {},
   "cell_type": "markdown",
   "metadata": {},
   "source": [
    "<h2>Task 3</h2>"
   ]
  },
  {
   "cell_type": "code",
   "execution_count": null,
   "metadata": {},
   "outputs": [],
   "source": [
    "# Get the input number\n",
    "num = int(input(\"Enter an integer number: \"))\n",
    "\n",
    "# Calculate the previous and next numbers\n",
    "prev_num = num - 1\n",
    "next_num = num + 1\n",
    "\n",
    "# Print the results\n",
    "print(\"The next number for the number\", num, \"is\", next_num)\n",
    "print(\"The previous number for the number\", num, \"is\", prev_num)"
   ]
  },
  {
   "attachments": {},
   "cell_type": "markdown",
   "metadata": {},
   "source": [
    "<h2>Task 4</h2>"
   ]
  },
  {
   "cell_type": "code",
   "execution_count": 3,
   "metadata": {},
   "outputs": [
    {
     "name": "stdout",
     "output_type": "stream",
     "text": [
      "1\n"
     ]
    }
   ],
   "source": [
    "# Read the K-th day of the year from input\n",
    "k = int(input(\"Enter the K-th day of the year (between 1 and 365): \"))\n",
    "\n",
    "# Check if the input is valid\n",
    "if k < 1 or k > 365:\n",
    "    print(\"Error: K-th day of the year must be between 1 and 365.\")\n",
    "else:\n",
    "    # Calculate the number of the day of the week\n",
    "    # January 1st is a Thursday (k + 3)\n",
    "    day_of_week = (k + 3) % 7\n",
    "\n",
    "    # Print the number of the day of the week\n",
    "    print(day_of_week)"
   ]
  },
  {
   "attachments": {},
   "cell_type": "markdown",
   "metadata": {},
   "source": [
    "<h2>Task 5</h2>"
   ]
  },
  {
   "cell_type": "code",
   "execution_count": 4,
   "metadata": {},
   "outputs": [
    {
     "name": "stdout",
     "output_type": "stream",
     "text": [
      "1\n"
     ]
    }
   ],
   "source": [
    "# Read a positive real number from input\n",
    "num = float(input(\"Enter a positive real number: \"))\n",
    "\n",
    "# Shift the decimal point to the right by 1 position\n",
    "# Get the last digit of the integer part\n",
    "first_digit = int((num * 10) % 10)\n",
    "\n",
    "# Print the first digit\n",
    "print(first_digit)"
   ]
  }
 ],
 "metadata": {
  "kernelspec": {
   "display_name": "base",
   "language": "python",
   "name": "python3"
  },
  "language_info": {
   "codemirror_mode": {
    "name": "ipython",
    "version": 3
   },
   "file_extension": ".py",
   "mimetype": "text/x-python",
   "name": "python",
   "nbconvert_exporter": "python",
   "pygments_lexer": "ipython3",
   "version": "3.9.7"
  },
  "orig_nbformat": 4
 },
 "nbformat": 4,
 "nbformat_minor": 2
}
